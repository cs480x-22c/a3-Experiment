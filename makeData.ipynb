{
 "cells": [
  {
   "cell_type": "code",
   "execution_count": 1,
   "id": "043ea456",
   "metadata": {},
   "outputs": [],
   "source": [
    "import random as rand\n",
    "import csv"
   ]
  },
  {
   "cell_type": "code",
   "execution_count": 2,
   "id": "d65e8c53",
   "metadata": {},
   "outputs": [],
   "source": [
    "limit = 1000"
   ]
  },
  {
   "cell_type": "markdown",
   "id": "d77ba1b6",
   "metadata": {},
   "source": [
    "<h1>Creating data to be used in graphs</h1>\n",
    "Each row has enough information for one graph\n",
    "<ul>\n",
    "    <li>The ID of a graph</li>\n",
    "    <li>The index of the first mark</li>\n",
    "    <li>The index of the second mark</li>\n",
    "    <li>The ratio of the sizes of both marked segments</li>\n",
    "    <li>The sizes of each segment (Add up to 100 for 100% of a graph)</li>\n",
    "</ul>"
   ]
  },
  {
   "cell_type": "code",
   "execution_count": 3,
   "id": "1885debf",
   "metadata": {},
   "outputs": [],
   "source": [
    "header = ['id', 'mark1', 'mark2', 'ratio', 'data']"
   ]
  },
  {
   "cell_type": "markdown",
   "id": "d99c08c5",
   "metadata": {},
   "source": [
    "<h3>Make 5-10 data points all of which add up to 100</h3>"
   ]
  },
  {
   "cell_type": "code",
   "execution_count": 4,
   "id": "15a878b4",
   "metadata": {},
   "outputs": [
    {
     "name": "stdout",
     "output_type": "stream",
     "text": [
      "[14.21, 0.37, 2.62, 5.23, 14.95, 15.89, 10.84, 7.1, 4.3, 17.38, 7.1]\n"
     ]
    }
   ],
   "source": [
    "def makeDataPoints () :\n",
    "    size = rand.randint(5,11)\n",
    "    \n",
    "    datapoints = [0] * size\n",
    "    sum = 0\n",
    "    \n",
    "    for i in range(size):\n",
    "        datapoints[i] = rand.randint(0,101)\n",
    "        sum += datapoints[i]\n",
    "        \n",
    "    avg = 100/sum\n",
    "    \n",
    "    for i in range(size):\n",
    "        datapoints[i] = round(datapoints[i] * avg,2)\n",
    "        \n",
    "    return datapoints\n",
    "        \n",
    "print(makeDataPoints())"
   ]
  },
  {
   "cell_type": "markdown",
   "id": "9aec3358",
   "metadata": {},
   "source": [
    "<h3>The ratio that we will compare forms with will be a percentage (Input of 68 = 0.68 or 68%)</h3>"
   ]
  },
  {
   "cell_type": "code",
   "execution_count": 5,
   "id": "bd23b22f",
   "metadata": {},
   "outputs": [],
   "source": [
    "def ratio (mark1, mark2) :\n",
    "    if mark1 < mark2: \n",
    "        return round(mark1/mark2,2)*100\n",
    "    else:\n",
    "        return round(mark2/mark1,2)*100"
   ]
  },
  {
   "cell_type": "code",
   "execution_count": 6,
   "id": "5d0cbf3c",
   "metadata": {},
   "outputs": [],
   "source": [
    "def makeLists (w, limit) :\n",
    "    for i in range(limit) :\n",
    "        datapoints = makeDataPoints()\n",
    "        marks = rand.sample(range(0,len(datapoints)), 2)\n",
    "        r = ratio(datapoints[marks[0]], datapoints[marks[1]])\n",
    "        row = [i, marks[0], marks[1], r, datapoints]\n",
    "        w.writerow(row)"
   ]
  },
  {
   "cell_type": "markdown",
   "id": "5f8a1fc5",
   "metadata": {},
   "source": [
    "<h3>Make [limit] graphs (limit is defined at the second cell)</h3>"
   ]
  },
  {
   "cell_type": "code",
   "execution_count": 7,
   "id": "61990bcb",
   "metadata": {},
   "outputs": [],
   "source": [
    "with open(\"data.csv\", 'w', newline='') as f:\n",
    "    w = csv.writer(f)\n",
    "    w.writerow(header)\n",
    "    makeLists(w,limit)"
   ]
  }
 ],
 "metadata": {
  "kernelspec": {
   "display_name": "Python 3 (ipykernel)",
   "language": "python",
   "name": "python3"
  },
  "language_info": {
   "codemirror_mode": {
    "name": "ipython",
    "version": 3
   },
   "file_extension": ".py",
   "mimetype": "text/x-python",
   "name": "python",
   "nbconvert_exporter": "python",
   "pygments_lexer": "ipython3",
   "version": "3.9.7"
  }
 },
 "nbformat": 4,
 "nbformat_minor": 5
}
